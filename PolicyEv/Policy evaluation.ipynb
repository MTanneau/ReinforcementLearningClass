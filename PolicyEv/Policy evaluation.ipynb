{
 "cells": [
  {
   "cell_type": "code",
   "execution_count": 1,
   "metadata": {
    "collapsed": true
   },
   "outputs": [],
   "source": [
    "import numpy as np\n",
    "import matplotlib.pyplot as plt"
   ]
  },
  {
   "cell_type": "markdown",
   "metadata": {},
   "source": [
    "## Example Mathieu"
   ]
  },
  {
   "cell_type": "code",
   "execution_count": 2,
   "metadata": {
    "collapsed": true
   },
   "outputs": [],
   "source": [
    "r_A = 2\n",
    "r_B = 1\n",
    "c   = 3\n",
    "gamma=0.9"
   ]
  },
  {
   "cell_type": "code",
   "execution_count": 6,
   "metadata": {
    "collapsed": false
   },
   "outputs": [
    {
     "name": "stdout",
     "output_type": "stream",
     "text": [
      "[[ 0.05  0.95]\n",
      " [ 0.95  0.05]] \n",
      "\n",
      "[[-1.8]\n",
      " [-0.9]]\n"
     ]
    }
   ],
   "source": [
    "#Define a policy\n",
    "p_a = 0.05\n",
    "p_b = 0.05\n",
    "P_pi = np.array([[p_a,1-p_a],[1-p_b,p_b]])\n",
    "print P_pi , \"\\n\"\n",
    "\n",
    "r_pi = np.array([[r_A * P_pi[0,0] + (r_B - c) * P_pi[0,1]],\n",
    "                 [(r_A - c) * P_pi[1,0] + r_B * P_pi[1,1]] ])\n",
    "print r_pi"
   ]
  },
  {
   "cell_type": "markdown",
   "metadata": {},
   "source": [
    "I can compute analytically the state-value function matrix, but the inverse becomes too expensive for bigg state space(and, so, big matrices). This is why later we implement also policy evaluation algorithm"
   ]
  },
  {
   "cell_type": "markdown",
   "metadata": {},
   "source": [
    "$$ v_{\\pi} = r_{\\pi} + \\gamma P_{pi}v_{\\pi} \\implies v_{\\pi} = (I - \\gamma P_{\\pi})^{-1} r_{\\pi}$$ "
   ]
  },
  {
   "cell_type": "code",
   "execution_count": 11,
   "metadata": {
    "collapsed": false
   },
   "outputs": [
    {
     "name": "stdout",
     "output_type": "stream",
     "text": [
      "[[-13.74861878]\n",
      " [-13.25138122]]\n"
     ]
    }
   ],
   "source": [
    "from numpy.linalg import inv\n",
    "v_pi = np.dot(inv(np.eye(2) - gamma * P_pi), r_pi)\n",
    "\n",
    "print v_pi"
   ]
  },
  {
   "cell_type": "markdown",
   "metadata": {},
   "source": [
    "### Policy evaluation"
   ]
  },
  {
   "cell_type": "code",
   "execution_count": 28,
   "metadata": {
    "collapsed": false
   },
   "outputs": [],
   "source": [
    "def policyEvaluation(epsilon):\n",
    "\n",
    "    V_k = np.array([0,0])[:,None]\n",
    "    \n",
    "    delta = epsilon + 1\n",
    "    while (delta >epsilon):        \n",
    "        delta =0\n",
    "        V_old  = V_k\n",
    "        \n",
    "        V_k    = r_pi + gamma * (P_pi.dot(V_k)) \n",
    "        \n",
    "        delta = np.max(V_old - V_k)\n",
    "      \n",
    "        \n",
    "    return V_k            "
   ]
  },
  {
   "cell_type": "code",
   "execution_count": 29,
   "metadata": {
    "collapsed": false
   },
   "outputs": [
    {
     "data": {
      "text/plain": [
       "array([[-13.7486179 ],\n",
       "       [-13.25138033]])"
      ]
     },
     "execution_count": 29,
     "metadata": {},
     "output_type": "execute_result"
    }
   ],
   "source": [
    "policyEvaluation(10**(-7))"
   ]
  },
  {
   "cell_type": "markdown",
   "metadata": {},
   "source": [
    "## Example 4.1"
   ]
  },
  {
   "cell_type": "code",
   "execution_count": 3,
   "metadata": {
    "collapsed": false
   },
   "outputs": [],
   "source": [
    "import numpy as np"
   ]
  },
  {
   "cell_type": "code",
   "execution_count": 353,
   "metadata": {
    "collapsed": false
   },
   "outputs": [],
   "source": [
    "numStates = 16\n",
    "\n",
    "#expected reward per ogni stato s\n",
    "r_pi = np.ones(16) * -1\n",
    "r_pi[0] = 0\n",
    "r_pi[15]= 0\n",
    "\n",
    "#pi: action probabilities for each state\n",
    "pi = np.ones((16,4)) * 0.25\n",
    "pi[0,:] = 0\n",
    "pi[15,:]= 0\n",
    "\n",
    "action_idx = {'u':0, 'd':1, 'r':2, 'l':3}\n",
    "\n",
    "#Transitions\n",
    "trans = np.zeros((16,4)).astype(int)\n",
    "\n",
    "for s in range(1,15):        \n",
    "    #prima riga\n",
    "    if (s <=3):\n",
    "        trans[s][0] = s\n",
    "    else:\n",
    "        trans[s][0] = s-4\n",
    "    \n",
    "    #ultima riga\n",
    "    if (s>=12):\n",
    "        trans[s][1] = s\n",
    "    else:\n",
    "        trans[s][1] = s+4\n",
    "    \n",
    "    #riga destra\n",
    "    if ((s+1)%4 == 0):\n",
    "        trans[s][2] = s\n",
    "    else:\n",
    "        trans[s][2] = s+1\n",
    "    \n",
    "    #riga sinistra\n",
    "    if (s%4 == 0):\n",
    "        trans[s][3] = s\n",
    "    else:\n",
    "        trans[s][3] = s-1\n",
    "\n",
    "def transProb(trans, pi):\n",
    "    transProbMatrix = np.zeros((16,16))\n",
    "    for s in range(1,15):   \n",
    "        for a in range(4):\n",
    "            transProbMatrix[s,trans[s,a]] += pi[s,a]\n",
    "    \n",
    "    return transProbMatrix"
   ]
  },
  {
   "cell_type": "code",
   "execution_count": 339,
   "metadata": {
    "collapsed": false
   },
   "outputs": [],
   "source": [
    "V_k = np.zeros(16)\n",
    "transProbMatrix = transProb(trans,pi)\n",
    "V_k = r_pi + transProbMatrix.dot(V_k)"
   ]
  },
  {
   "cell_type": "code",
   "execution_count": 355,
   "metadata": {
    "collapsed": false
   },
   "outputs": [
    {
     "data": {
      "text/plain": [
       "array([  0.        , -13.99999897, -19.99999848, -21.9999983 ,\n",
       "       -13.99999897, -17.99999866, -19.99999849, -19.99999848,\n",
       "       -19.99999848, -19.99999849, -17.99999866, -13.99999897,\n",
       "       -21.9999983 , -19.99999848, -13.99999897,   0.        ])"
      ]
     },
     "execution_count": 355,
     "metadata": {},
     "output_type": "execute_result"
    }
   ],
   "source": [
    "V_k = np.zeros(16)\n",
    "delta = 10**(-7) + 1\n",
    "\n",
    "while delta > 10**(-7):\n",
    "    delta = 0\n",
    "    V_k_old = V_k\n",
    "    \n",
    "    transProbMatrix = transProb(trans,pi)\n",
    "    V_k = r_pi + transProbMatrix.dot(V_k)\n",
    "    \n",
    "    delta = np.amax(V_k_old - V_k)\n",
    "    \n",
    "V_k"
   ]
  },
  {
   "cell_type": "code",
   "execution_count": 356,
   "metadata": {
    "collapsed": false
   },
   "outputs": [],
   "source": [
    "for s in range(1,15):\n",
    "    act_res = r_pi[trans[s,:]] + V_k[trans[s,:]]\n",
    "    greedy_actions = np.argwhere( act_res == np.amax(act_res)  ).squeeze()\n",
    "    pi[s, :] =0\n",
    "    pi[s, greedy_actions] = 1.0 / np.size(greedy_actions) \n",
    "    "
   ]
  },
  {
   "cell_type": "markdown",
   "metadata": {},
   "source": [
    "** Below the pi is not exactly like in the results in the book, but this is for approximation errors. For example, V[1] = -19.99999848 and V[2]= -19.99999849 > V[1], but this is just an approximation error: they should be equal **"
   ]
  },
  {
   "cell_type": "code",
   "execution_count": 357,
   "metadata": {
    "collapsed": false
   },
   "outputs": [
    {
     "data": {
      "text/plain": [
       "array([[ 0. ,  0. ,  0. ,  0. ],\n",
       "       [ 0. ,  0. ,  0. ,  1. ],\n",
       "       [ 0. ,  0. ,  0. ,  1. ],\n",
       "       [ 0. ,  0.5,  0. ,  0.5],\n",
       "       [ 1. ,  0. ,  0. ,  0. ],\n",
       "       [ 1. ,  0. ,  0. ,  0. ],\n",
       "       [ 0. ,  0. ,  0. ,  1. ],\n",
       "       [ 0. ,  1. ,  0. ,  0. ],\n",
       "       [ 1. ,  0. ,  0. ,  0. ],\n",
       "       [ 1. ,  0. ,  0. ,  0. ],\n",
       "       [ 0. ,  0. ,  1. ,  0. ],\n",
       "       [ 0. ,  1. ,  0. ,  0. ],\n",
       "       [ 0. ,  0. ,  1. ,  0. ],\n",
       "       [ 0. ,  0. ,  1. ,  0. ],\n",
       "       [ 0. ,  0. ,  1. ,  0. ],\n",
       "       [ 0. ,  0. ,  0. ,  0. ]])"
      ]
     },
     "execution_count": 357,
     "metadata": {},
     "output_type": "execute_result"
    }
   ],
   "source": [
    "print pi"
   ]
  },
  {
   "cell_type": "markdown",
   "metadata": {},
   "source": [
    "### Bellman update with for loops "
   ]
  },
  {
   "cell_type": "code",
   "execution_count": null,
   "metadata": {
    "collapsed": false
   },
   "outputs": [],
   "source": [
    "V_k0_copy = V_k0.copy()\n",
    "\n",
    "for s in range(1,15):\n",
    "    temp = 0\n",
    "    for a in range(4):\n",
    "        temp += pi[s][a] * (-1 + V_k0_copy[trans[s][a]])\n",
    "    V_k0[s] = temp\n",
    "\n",
    "V_k0\n",
    "    "
   ]
  }
 ],
 "metadata": {
  "kernelspec": {
   "display_name": "Python 2",
   "language": "python",
   "name": "python2"
  },
  "language_info": {
   "codemirror_mode": {
    "name": "ipython",
    "version": 2
   },
   "file_extension": ".py",
   "mimetype": "text/x-python",
   "name": "python",
   "nbconvert_exporter": "python",
   "pygments_lexer": "ipython2",
   "version": "2.7.11"
  }
 },
 "nbformat": 4,
 "nbformat_minor": 0
}
