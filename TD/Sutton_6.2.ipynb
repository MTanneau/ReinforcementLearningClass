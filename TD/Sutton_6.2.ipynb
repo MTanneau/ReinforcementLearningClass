{
 "cells": [
  {
   "cell_type": "code",
   "execution_count": 1,
   "metadata": {
    "collapsed": true
   },
   "outputs": [],
   "source": [
    "import numpy as np\n",
    "import matplotlib.pyplot as plt"
   ]
  },
  {
   "cell_type": "code",
   "execution_count": 59,
   "metadata": {
    "collapsed": false
   },
   "outputs": [],
   "source": [
    "#state space, state 0 is terminal\n",
    "nbStates = 6 #nincluding terminal states\n",
    "S=np.arange(nbStates)\n",
    "pi=0.5*np.ones(nbStates)\n",
    "gamma=0.9"
   ]
  },
  {
   "cell_type": "code",
   "execution_count": 60,
   "metadata": {
    "collapsed": true
   },
   "outputs": [],
   "source": [
    "nbEpisodes = 1000\n",
    "nbRuns=100\n",
    "\n",
    "alpha_MC = np.array([0.01,0.02,0.03,0.04,0.05])\n",
    "alpha_TD = np.array([0.01,0.02,0.03,0.04,0.05])\n",
    "nbAlpha = np.size(alpha_MC)"
   ]
  },
  {
   "cell_type": "code",
   "execution_count": 76,
   "metadata": {
    "collapsed": false
   },
   "outputs": [
    {
     "data": {
      "text/plain": [
       "array([ 0. ,  0. ,  0. ,  0. ,  0. ,  0.5])"
      ]
     },
     "execution_count": 76,
     "metadata": {},
     "output_type": "execute_result"
    }
   ],
   "source": [
    "#construct P_pi\n",
    "P_pi=np.diag(0.5*np.ones(nbStates-1),1)+np.diag(0.5*np.ones(nbStates-1),-1)\n",
    "P_pi[0,0]=1.0\n",
    "P_pi[0,1]=0.0\n",
    "P_pi[nbStates-1,0]=0.5\n",
    "\n",
    "#define r_pi\n",
    "r_pi = np.zeros(nbStates)\n",
    "r_pi[nbStates-1]=0.5\n",
    "r_pi"
   ]
  },
  {
   "cell_type": "code",
   "execution_count": 50,
   "metadata": {
    "collapsed": false
   },
   "outputs": [],
   "source": [
    "#v_MC = 0.5*np.ones((nbAlpha, nbRuns, nbEpisodes,nbStates))\n",
    "v_TD = 0.5*np.ones((nbAlpha, nbRuns, nbEpisodes,nbStates))\n",
    "v_TD[:,:,:,0]=0.0\n",
    "#v_MC[:,:,:,0]=0.0\n",
    "\n",
    "for a in range(nbAlpha):\n",
    "    for r in range(nbRuns):\n",
    "        for e in range(1,nbEpisodes):\n",
    "            #retain values from last episode\n",
    "            v_TD[a,r,e,:]=v_TD[a,r,e-1,:]\n",
    "            \n",
    "            s=3\n",
    "            while(s>0):\n",
    "                if(np.random.rand()<pi[s]):\n",
    "                    #go left\n",
    "                    v_TD[a,r,e,s] = v_TD[a,r,e,s] + alpha_TD[a]*(0+gamma*v_TD[a,r,e,s-1]-v_TD[a,r,e,s])\n",
    "                    s-=1\n",
    "                elif(s==nbStates-1):\n",
    "                    #go right, episode ends\n",
    "                    v_TD[a,r,e,s] = v_TD[a,r,e,s] + alpha_TD[a]*(1+gamma*v_TD[a,r,e,0]-v_TD[a,r,e,s])\n",
    "                    s=0\n",
    "                else:\n",
    "                    #go right\n",
    "                    v_TD[a,r,e,s] = v_TD[a,r,e,s] + alpha_TD[a]*(0+gamma*v_TD[a,r,e,s+1]-v_TD[a,r,e,s])\n",
    "                    s+=1\n"
   ]
  },
  {
   "cell_type": "code",
   "execution_count": 46,
   "metadata": {
    "collapsed": false
   },
   "outputs": [
    {
     "data": {
      "image/png": "[encoded data removed]",
      "text/plain": [
       "<matplotlib.figure.Figure at 0x94f4c88>"
      ]
     },
     "metadata": {},
     "output_type": "display_data"
    }
   ],
   "source": [
    "plt.plot(range(nbEpisodes),np.average(v_TD,1)[0,:,5],'-')\n",
    "plt.show()"
   ]
  }
 ],
 "metadata": {
  "anaconda-cloud": {},
  "kernelspec": {
   "display_name": "Python [default]",
   "language": "python",
   "name": "python2"
  },
  "language_info": {
   "codemirror_mode": {
    "name": "ipython",
    "version": 2
   },
   "file_extension": ".py",
   "mimetype": "text/x-python",
   "name": "python",
   "nbconvert_exporter": "python",
   "pygments_lexer": "ipython2",
   "version": "2.7.12"
  }
 },
 "nbformat": 4,
 "nbformat_minor": 1
}
