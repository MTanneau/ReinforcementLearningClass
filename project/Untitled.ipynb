{
 "cells": [
  {
   "cell_type": "code",
   "execution_count": 1,
   "metadata": {
    "collapsed": true
   },
   "outputs": [],
   "source": [
    "import numpy as np\n",
    "import matplotlib.pyplot as plt\n",
    "from scipy.stats import chi2\n",
    "from scipy.optimize import fsolve\n",
    "import time as time"
   ]
  },
  {
   "cell_type": "code",
   "execution_count": null,
   "metadata": {
    "collapsed": true
   },
   "outputs": [],
   "source": [
    "class MDP:\n",
    "    \n",
    "    def __init__(self):\n",
    "        \n",
    "        \n",
    "    def get_features(self,state):\n",
    "        \n",
    "        return state\n",
    "    \n",
    "    def perform_transition(self):\n",
    "        \n",
    "        state=0\n",
    "        features=0\n",
    "        reward=0\n",
    "        \n",
    "        return state, features, reward\n",
    "    \n",
    "\n",
    "    def compute_stationnary_distribution(self):\n",
    "        \n",
    "        return\n",
    "    \n",
    "    \n",
    "    def get_policy(self):\n",
    "        \n",
    "        return self.policy\n",
    "    \n",
    "    def policy_evaluation(self):\n",
    "        \n",
    "        return\n",
    "    \n",
    "    def policy_iteration(self):\n",
    "        \n",
    "        return"
   ]
  }
 ],
 "metadata": {
  "anaconda-cloud": {},
  "kernelspec": {
   "display_name": "Python [default]",
   "language": "python",
   "name": "python2"
  },
  "language_info": {
   "codemirror_mode": {
    "name": "ipython",
    "version": 2
   },
   "file_extension": ".py",
   "mimetype": "text/x-python",
   "name": "python",
   "nbconvert_exporter": "python",
   "pygments_lexer": "ipython2",
   "version": "2.7.12"
  }
 },
 "nbformat": 4,
 "nbformat_minor": 1
}
